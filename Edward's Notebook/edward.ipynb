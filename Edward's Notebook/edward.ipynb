{
 "cells": [
  {
   "cell_type": "code",
   "execution_count": 171,
   "metadata": {},
   "outputs": [],
   "source": [
    "# importing required libraries and settings\n",
    "import pandas as pd\n",
    "import numpy as np\n",
    "import matplotlib.pyplot as plt\n",
    "%matplotlib inline\n",
    "pd.set_option('display.max_colwidth', None)"
   ]
  },
  {
   "cell_type": "code",
   "execution_count": 172,
   "metadata": {},
   "outputs": [],
   "source": [
    "# Reading in data\n",
    "df = pd.read_csv(\"crime30.csv\", sep = ',')\n",
    "# print(df.info)"
   ]
  },
  {
   "cell_type": "code",
   "execution_count": 173,
   "metadata": {},
   "outputs": [
    {
     "name": "stdout",
     "output_type": "stream",
     "text": [
      "93\n"
     ]
    }
   ],
   "source": [
    "# Data comprises police reports in the Pittsburgh Area in the last 30 days.\n",
    "# Only Pitt police, no campus police or port authority\n",
    "print(len(df['INCIDENTNEIGHBORHOOD'].unique()))\n",
    "df_sub = df.INCIDENTNEIGHBORHOOD.value_counts()\n",
    "df_reverse = df_sub.iloc[::-1]\n",
    "# df_reverse.head(10)\n",
    "df_reverse10 = df_reverse.iloc[:10]\n"
   ]
  },
  {
   "cell_type": "code",
   "execution_count": 174,
   "metadata": {},
   "outputs": [
    {
     "data": {
      "text/plain": [
       "Central Business District    198\n",
       "Carrick                      129\n",
       "South Side Flats             127\n",
       "East Liberty                 106\n",
       "Homewood North                87\n",
       "                            ... \n",
       "Chartiers City                 2\n",
       "Outside County                 2\n",
       "Summer Hill                    2\n",
       "East Carnegie                  1\n",
       "Ridgemont                      1\n",
       "Name: INCIDENTNEIGHBORHOOD, Length: 92, dtype: int64"
      ]
     },
     "execution_count": 174,
     "metadata": {},
     "output_type": "execute_result"
    }
   ],
   "source": [
    "df.INCIDENTNEIGHBORHOOD.value_counts()"
   ]
  },
  {
   "cell_type": "code",
   "execution_count": 175,
   "metadata": {},
   "outputs": [],
   "source": [
    "# # Test\n",
    "# x = np.linspace(0, 10, 100)\n",
    "# df = pd.DataFrame({\"y\":np.sin(x), \"z\":np.cos(x)}, index=x)\n",
    "# df.head()"
   ]
  },
  {
   "cell_type": "code",
   "execution_count": 176,
   "metadata": {},
   "outputs": [
    {
     "data": {
      "text/plain": [
       "<AxesSubplot:>"
      ]
     },
     "execution_count": 176,
     "metadata": {},
     "output_type": "execute_result"
    },
    {
     "data": {
      "image/png": "[encoded data removed]",
      "text/plain": [
       "<Figure size 432x288 with 1 Axes>"
      ]
     },
     "metadata": {
      "needs_background": "light"
     },
     "output_type": "display_data"
    }
   ],
   "source": [
    "df_reverse10.plot.bar()"
   ]
  },
  {
   "cell_type": "code",
   "execution_count": null,
   "metadata": {},
   "outputs": [],
   "source": []
  }
 ],
 "metadata": {
  "kernelspec": {
   "display_name": "Python 3",
   "language": "python",
   "name": "python3"
  },
  "language_info": {
   "codemirror_mode": {
    "name": "ipython",
    "version": 3
   },
   "file_extension": ".py",
   "mimetype": "text/x-python",
   "name": "python",
   "nbconvert_exporter": "python",
   "pygments_lexer": "ipython3",
   "version": "3.9.12"
  }
 },
 "nbformat": 4,
 "nbformat_minor": 4
}
