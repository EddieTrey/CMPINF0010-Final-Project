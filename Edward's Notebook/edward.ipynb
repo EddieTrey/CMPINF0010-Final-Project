{
 "cells": [
  {
   "cell_type": "code",
   "execution_count": 35,
   "metadata": {},
   "outputs": [],
   "source": [
    "# importing required libraries\n",
    "import pandas as pd\n",
    "import matplotlib\n",
    "pd.set_option('display.max_colwidth', None)"
   ]
  },
  {
   "cell_type": "code",
   "execution_count": 36,
   "metadata": {},
   "outputs": [],
   "source": [
    "# Reading in data\n",
    "df = pd.read_csv(\"crime30.csv\", sep = ',')\n",
    "# print(df.info)"
   ]
  },
  {
   "cell_type": "code",
   "execution_count": 37,
   "metadata": {},
   "outputs": [
    {
     "name": "stdout",
     "output_type": "stream",
     "text": [
      "93\n"
     ]
    },
    {
     "data": {
      "text/plain": [
       "Ridgemont          1\n",
       "East Carnegie      1\n",
       "Summer Hill        2\n",
       "Outside County     2\n",
       "Chartiers City     2\n",
       "Regent Square      2\n",
       "Mt. Oliver Boro    3\n",
       "Glen Hazel         3\n",
       "Hays               4\n",
       "Esplen             4\n",
       "Name: INCIDENTNEIGHBORHOOD, dtype: int64"
      ]
     },
     "execution_count": 37,
     "metadata": {},
     "output_type": "execute_result"
    }
   ],
   "source": [
    "# Data comprises police reports in the Pittsburgh Area in the last 30 days.\n",
    "# Only Pitt police, no campus police or port authority\n",
    "print(len(df['INCIDENTNEIGHBORHOOD'].unique()))\n",
    "df_sub = df.INCIDENTNEIGHBORHOOD.value_counts()\n",
    "df_reverse = df_sub.iloc[::-1]\n",
    "df_reverse.head(10)\n"
   ]
  },
  {
   "cell_type": "code",
   "execution_count": 38,
   "metadata": {},
   "outputs": [
    {
     "data": {
      "text/plain": [
       "Central Business District    198\n",
       "Carrick                      129\n",
       "South Side Flats             127\n",
       "East Liberty                 106\n",
       "Homewood North                87\n",
       "                            ... \n",
       "Chartiers City                 2\n",
       "Outside County                 2\n",
       "Summer Hill                    2\n",
       "East Carnegie                  1\n",
       "Ridgemont                      1\n",
       "Name: INCIDENTNEIGHBORHOOD, Length: 92, dtype: int64"
      ]
     },
     "execution_count": 38,
     "metadata": {},
     "output_type": "execute_result"
    }
   ],
   "source": [
    "df.INCIDENTNEIGHBORHOOD.value_counts()"
   ]
  },
  {
   "cell_type": "code",
   "execution_count": null,
   "metadata": {},
   "outputs": [],
   "source": []
  }
 ],
 "metadata": {
  "kernelspec": {
   "display_name": "Python 3",
   "language": "python",
   "name": "python3"
  },
  "language_info": {
   "codemirror_mode": {
    "name": "ipython",
    "version": 3
   },
   "file_extension": ".py",
   "mimetype": "text/x-python",
   "name": "python",
   "nbconvert_exporter": "python",
   "pygments_lexer": "ipython3",
   "version": "3.9.12"
  }
 },
 "nbformat": 4,
 "nbformat_minor": 4
}
