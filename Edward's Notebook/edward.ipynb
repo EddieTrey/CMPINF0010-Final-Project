{
 "cells": [
  {
   "cell_type": "code",
   "execution_count": 40,
   "metadata": {},
   "outputs": [],
   "source": [
    "# importing required libraries and settings\n",
    "import pandas as pd\n",
    "import numpy as np\n",
    "import matplotlib.pyplot as plt\n",
    "%matplotlib inline\n",
    "pd.set_option('display.max_colwidth', None)"
   ]
  },
  {
   "cell_type": "code",
   "execution_count": 36,
   "metadata": {},
   "outputs": [],
   "source": [
    "# Reading in data\n",
    "df = pd.read_csv(\"crime30.csv\", sep = ',')\n",
    "# print(df.info)"
   ]
  },
  {
   "cell_type": "code",
   "execution_count": 37,
   "metadata": {},
   "outputs": [
    {
     "name": "stdout",
     "output_type": "stream",
     "text": [
      "93\n"
     ]
    },
    {
     "data": {
      "text/plain": [
       "Ridgemont          1\n",
       "East Carnegie      1\n",
       "Summer Hill        2\n",
       "Outside County     2\n",
       "Chartiers City     2\n",
       "Regent Square      2\n",
       "Mt. Oliver Boro    3\n",
       "Glen Hazel         3\n",
       "Hays               4\n",
       "Esplen             4\n",
       "Name: INCIDENTNEIGHBORHOOD, dtype: int64"
      ]
     },
     "execution_count": 37,
     "metadata": {},
     "output_type": "execute_result"
    }
   ],
   "source": [
    "# Data comprises police reports in the Pittsburgh Area in the last 30 days.\n",
    "# Only Pitt police, no campus police or port authority\n",
    "print(len(df['INCIDENTNEIGHBORHOOD'].unique()))\n",
    "df_sub = df.INCIDENTNEIGHBORHOOD.value_counts()\n",
    "df_reverse = df_sub.iloc[::-1]\n",
    "df_reverse.head(10)\n"
   ]
  },
  {
   "cell_type": "code",
   "execution_count": 38,
   "metadata": {},
   "outputs": [
    {
     "data": {
      "text/plain": [
       "Central Business District    198\n",
       "Carrick                      129\n",
       "South Side Flats             127\n",
       "East Liberty                 106\n",
       "Homewood North                87\n",
       "                            ... \n",
       "Chartiers City                 2\n",
       "Outside County                 2\n",
       "Summer Hill                    2\n",
       "East Carnegie                  1\n",
       "Ridgemont                      1\n",
       "Name: INCIDENTNEIGHBORHOOD, Length: 92, dtype: int64"
      ]
     },
     "execution_count": 38,
     "metadata": {},
     "output_type": "execute_result"
    }
   ],
   "source": [
    "df.INCIDENTNEIGHBORHOOD.value_counts()"
   ]
  },
  {
   "cell_type": "code",
   "execution_count": 41,
   "metadata": {},
   "outputs": [
    {
     "data": {
      "text/html": [
       "<div>\n",
       "<style scoped>\n",
       "    .dataframe tbody tr th:only-of-type {\n",
       "        vertical-align: middle;\n",
       "    }\n",
       "\n",
       "    .dataframe tbody tr th {\n",
       "        vertical-align: top;\n",
       "    }\n",
       "\n",
       "    .dataframe thead th {\n",
       "        text-align: right;\n",
       "    }\n",
       "</style>\n",
       "<table border=\"1\" class=\"dataframe\">\n",
       "  <thead>\n",
       "    <tr style=\"text-align: right;\">\n",
       "      <th></th>\n",
       "      <th>y</th>\n",
       "      <th>z</th>\n",
       "    </tr>\n",
       "  </thead>\n",
       "  <tbody>\n",
       "    <tr>\n",
       "      <th>0.00000</th>\n",
       "      <td>0.000000</td>\n",
       "      <td>1.000000</td>\n",
       "    </tr>\n",
       "    <tr>\n",
       "      <th>0.10101</th>\n",
       "      <td>0.100838</td>\n",
       "      <td>0.994903</td>\n",
       "    </tr>\n",
       "    <tr>\n",
       "      <th>0.20202</th>\n",
       "      <td>0.200649</td>\n",
       "      <td>0.979663</td>\n",
       "    </tr>\n",
       "    <tr>\n",
       "      <th>0.30303</th>\n",
       "      <td>0.298414</td>\n",
       "      <td>0.954437</td>\n",
       "    </tr>\n",
       "    <tr>\n",
       "      <th>0.40404</th>\n",
       "      <td>0.393137</td>\n",
       "      <td>0.919480</td>\n",
       "    </tr>\n",
       "  </tbody>\n",
       "</table>\n",
       "</div>"
      ],
      "text/plain": [
       "                y         z\n",
       "0.00000  0.000000  1.000000\n",
       "0.10101  0.100838  0.994903\n",
       "0.20202  0.200649  0.979663\n",
       "0.30303  0.298414  0.954437\n",
       "0.40404  0.393137  0.919480"
      ]
     },
     "execution_count": 41,
     "metadata": {},
     "output_type": "execute_result"
    }
   ],
   "source": [
    "# Test\n",
    "x = np.linspace(0, 10, 100)\n",
    "# put that data into a dataframe\n",
    "df = pd.DataFrame({\"y\":np.sin(x), \"z\":np.cos(x)}, index=x)\n",
    "df.head()"
   ]
  },
  {
   "cell_type": "code",
   "execution_count": null,
   "metadata": {},
   "outputs": [],
   "source": []
  }
 ],
 "metadata": {
  "kernelspec": {
   "display_name": "Python 3",
   "language": "python",
   "name": "python3"
  },
  "language_info": {
   "codemirror_mode": {
    "name": "ipython",
    "version": 3
   },
   "file_extension": ".py",
   "mimetype": "text/x-python",
   "name": "python",
   "nbconvert_exporter": "python",
   "pygments_lexer": "ipython3",
   "version": "3.9.12"
  }
 },
 "nbformat": 4,
 "nbformat_minor": 4
}
