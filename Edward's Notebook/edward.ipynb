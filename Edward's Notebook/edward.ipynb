{
 "cells": [
  {
   "cell_type": "code",
   "execution_count": 74,
   "metadata": {},
   "outputs": [
    {
     "name": "stdout",
     "output_type": "stream",
     "text": [
      "yo\n"
     ]
    }
   ],
   "source": [
    "print('yo')"
   ]
  },
  {
   "cell_type": "code",
   "execution_count": 75,
   "metadata": {},
   "outputs": [],
   "source": [
    "# importing required libraries\n",
    "import pandas as pd\n",
    "import matplotlib\n",
    "pd.set_option('display.max_colwidth', None)"
   ]
  },
  {
   "cell_type": "code",
   "execution_count": 120,
   "metadata": {},
   "outputs": [],
   "source": [
    "df = pd.read_csv(\"arrests.csv\", sep = ',')"
   ]
  },
  {
   "cell_type": "code",
   "execution_count": 121,
   "metadata": {},
   "outputs": [
    {
     "data": {
      "text/plain": [
       "Central Business District    198\n",
       "Carrick                      128\n",
       "South Side Flats             127\n",
       "East Liberty                 105\n",
       "Homewood North                88\n",
       "                            ... \n",
       "Outside County                 2\n",
       "Summer Hill                    2\n",
       "East Carnegie                  1\n",
       "Ridgemont                      1\n",
       "Chartiers City                 1\n",
       "Name: INCIDENTNEIGHBORHOOD, Length: 92, dtype: int64"
      ]
     },
     "execution_count": 121,
     "metadata": {},
     "output_type": "execute_result"
    }
   ],
   "source": [
    "# print(len(df['INCIDENTNEIGHBORHOOD'].unique()))\n",
    "df_sub = df.INCIDENTNEIGHBORHOOD.value_counts()\n",
    "df_sub.head(100)\n"
   ]
  },
  {
   "cell_type": "code",
   "execution_count": 122,
   "metadata": {},
   "outputs": [
    {
     "data": {
      "text/plain": [
       "PK                       2995\n",
       "CCR                      2995\n",
       "HIERARCHY                2995\n",
       "INCIDENTTIME             2995\n",
       "INCIDENTLOCATION         2995\n",
       "CLEAREDFLAG              2995\n",
       "INCIDENTNEIGHBORHOOD     2969\n",
       "INCIDENTZONE             2995\n",
       "INCIDENTHIERARCHYDESC    2995\n",
       "OFFENSES                 2995\n",
       "INCIDENTTRACT            2969\n",
       "COUNCIL_DISTRICT         2485\n",
       "PUBLIC_WORKS_DIVISION    2485\n",
       "X                        2544\n",
       "Y                        2544\n",
       "dtype: int64"
      ]
     },
     "execution_count": 122,
     "metadata": {},
     "output_type": "execute_result"
    }
   ],
   "source": [
    "df.count()"
   ]
  },
  {
   "cell_type": "code",
   "execution_count": null,
   "metadata": {},
   "outputs": [],
   "source": []
  }
 ],
 "metadata": {
  "kernelspec": {
   "display_name": "Python 3",
   "language": "python",
   "name": "python3"
  },
  "language_info": {
   "codemirror_mode": {
    "name": "ipython",
    "version": 3
   },
   "file_extension": ".py",
   "mimetype": "text/x-python",
   "name": "python",
   "nbconvert_exporter": "python",
   "pygments_lexer": "ipython3",
   "version": "3.9.12"
  }
 },
 "nbformat": 4,
 "nbformat_minor": 4
}
